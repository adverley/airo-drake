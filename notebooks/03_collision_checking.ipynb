{
 "cells": [
  {
   "cell_type": "markdown",
   "metadata": {},
   "source": [
    "# Collision checking tutorial 💥\n",
    "\n",
    "This notebook shows how to:\n",
    "* Set up collision checking for joint configurations\n",
    "* Apply collision checking to joint and TCP paths"
   ]
  },
  {
   "cell_type": "markdown",
   "metadata": {},
   "source": [
    "## 1. Creating a `SceneGraphCollisionChecker` 🛡️\n",
    "Drake provides a very convenient class called [`SceneGraphCollisionChecker`](https://drake.mit.edu/doxygen_cxx/group__planning__collision__checker.html) that checks for collisions between the robot's links itself and its environment.\n",
    "After you set it up with a `RobotDiagram`, you can check for collisions with:\n",
    "```python\n",
    "collision_checker.CheckConfigCollisionFree(q)\n",
    "```\n",
    "Where `q` are all the joint positions of the `MultibodyPlant`.\n",
    "\n",
    "In the previous notebooks we showed how to quickly create a `RobotDiagram` with a UR5e and Robotiq 2F-85 gripper.\n",
    "You might have noticed that gripper introduces 6 degrees of freedom.\n",
    "However, in this notebook we will, for simplicity, make the gripper static and do collision checks with the gripper in a fixed open position."
   ]
  },
  {
   "cell_type": "code",
   "execution_count": null,
   "metadata": {},
   "outputs": [],
   "source": [
    "import numpy as np\n",
    "from pydrake.planning import RobotDiagramBuilder\n",
    "from airo_drake import add_floor, add_meshcat, finish_build, X_URTOOL0_ROBOTIQ, X_URBASE_ROSBASE\n",
    "from airo_drake import SingleArmScene\n",
    "import airo_models\n",
    "\n",
    "robot_diagram_builder = RobotDiagramBuilder()\n",
    "\n",
    "meshcat = add_meshcat(robot_diagram_builder)\n",
    "add_floor(robot_diagram_builder)\n",
    "\n",
    "plant = robot_diagram_builder.plant()\n",
    "parser = robot_diagram_builder.parser()\n",
    "parser.SetAutoRenaming(True)\n",
    "\n",
    "# Load URDF files\n",
    "arm_name = \"ur5e\"\n",
    "gripper_name = \"robotiq_2f_85\"\n",
    "arm_urdf_path = airo_models.get_urdf_path(arm_name)\n",
    "gripper_urdf_path = airo_models.get_urdf_path(gripper_name)\n",
    "\n",
    "# Make the gripper static\n",
    "gripper_urdf = airo_models.urdf.read_urdf(gripper_urdf_path)\n",
    "airo_models.urdf.replace_value(gripper_urdf, \"@type\", \"revolute\", \"fixed\")\n",
    "airo_models.urdf.delete_key(gripper_urdf, \"mimic\")\n",
    "airo_models.urdf.delete_key(gripper_urdf, \"transmission\")\n",
    "gripper_static_urdf_path = airo_models.urdf.write_urdf_to_tempfile(\n",
    "    gripper_urdf, gripper_urdf_path, prefix=f\"{gripper_name}_static_\"\n",
    ")\n",
    "\n",
    "# Use static gripper\n",
    "arm_index = parser.AddModels(arm_urdf_path)[0]\n",
    "gripper_index = parser.AddModels(gripper_static_urdf_path)[0]\n",
    "\n",
    "# Weld some frames together\n",
    "world_frame = plant.world_frame()\n",
    "arm_frame = plant.GetFrameByName(\"base_link\", arm_index)\n",
    "arm_tool_frame = plant.GetFrameByName(\"tool0\", arm_index)\n",
    "gripper_frame = plant.GetFrameByName(\"base_link\", gripper_index)\n",
    "\n",
    "arm_rigid_transform = X_URBASE_ROSBASE\n",
    "gripper_rigid_transform = X_URTOOL0_ROBOTIQ\n",
    "\n",
    "plant.WeldFrames(world_frame, arm_frame, arm_rigid_transform)\n",
    "plant.WeldFrames(arm_tool_frame, gripper_frame, gripper_rigid_transform)\n",
    "\n",
    "robot_diagram, context = finish_build(robot_diagram_builder, meshcat)\n",
    "del robot_diagram_builder  # no longer needed\n",
    "\n",
    "scene = SingleArmScene(robot_diagram, arm_index, gripper_index, meshcat)\n",
    "scene"
   ]
  },
  {
   "cell_type": "code",
   "execution_count": null,
   "metadata": {},
   "outputs": [],
   "source": [
    "plant.num_positions(), plant.num_positions(arm_index), plant.num_positions(gripper_index)"
   ]
  },
  {
   "cell_type": "code",
   "execution_count": null,
   "metadata": {},
   "outputs": [],
   "source": [
    "from pydrake.planning import SceneGraphCollisionChecker\n",
    "\n",
    "collision_checker = SceneGraphCollisionChecker(\n",
    "    model=scene.robot_diagram,\n",
    "    robot_model_instances=[scene.arm_index, scene.gripper_index],\n",
    "    edge_step_size=0.125,  # Arbitrary value: we don't use the CheckEdgeCollisionFree\n",
    "    env_collision_padding=0.005,\n",
    "    self_collision_padding=0.005,\n",
    ")"
   ]
  },
  {
   "cell_type": "markdown",
   "metadata": {},
   "source": [
    "## 2. Checking joint configurations 🤖\n",
    "\n",
    "Lets test some joint configurations for collisions!\n",
    "\n",
    "First, the default configuration. You can see in Meshcat that the robot is just barely not colliding with the table."
   ]
  },
  {
   "cell_type": "code",
   "execution_count": null,
   "metadata": {},
   "outputs": [],
   "source": [
    "collision_checker.CheckConfigCollisionFree(np.zeros(6))"
   ]
  },
  {
   "cell_type": "markdown",
   "metadata": {},
   "source": [
    "UR robots are always in self-collsion when elbow joint is at 180 degrees:"
   ]
  },
  {
   "cell_type": "code",
   "execution_count": null,
   "metadata": {},
   "outputs": [],
   "source": [
    "joints_self_collision = np.deg2rad([0, 0, 180, 0, 0, 0])\n",
    "collision_checker.CheckConfigCollisionFree(joints_self_collision)"
   ]
  },
  {
   "cell_type": "markdown",
   "metadata": {},
   "source": [
    "Lets double-check that visually:"
   ]
  },
  {
   "cell_type": "code",
   "execution_count": null,
   "metadata": {},
   "outputs": [],
   "source": [
    "plant = scene.robot_diagram.plant()\n",
    "plant_context = plant.GetMyContextFromRoot(context)\n",
    "\n",
    "plant.SetPositions(plant_context, scene.arm_index, joints_self_collision)\n",
    "scene.robot_diagram.ForcedPublish(context) # updates the meshcat visualization"
   ]
  },
  {
   "cell_type": "markdown",
   "metadata": {},
   "source": [
    "We can make the robot collide with the table by make the shoulder angle slightly larger"
   ]
  },
  {
   "cell_type": "code",
   "execution_count": null,
   "metadata": {},
   "outputs": [],
   "source": [
    "joints_table_collision = np.deg2rad([0, 5, 0, 0, 0, 0])\n",
    "collision_checker.CheckConfigCollisionFree(joints_table_collision)"
   ]
  },
  {
   "cell_type": "code",
   "execution_count": null,
   "metadata": {},
   "outputs": [],
   "source": [
    "plant.SetPositions(plant_context, scene.arm_index, joints_table_collision)\n",
    "scene.robot_diagram.ForcedPublish(context)"
   ]
  },
  {
   "cell_type": "markdown",
   "metadata": {},
   "source": [
    "## Checking joint paths 🛤️"
   ]
  },
  {
   "cell_type": "code",
   "execution_count": null,
   "metadata": {},
   "outputs": [],
   "source": [
    "start_joints = np.deg2rad([0, -90, 90, -90, -90, 0])\n",
    "\n",
    "print(collision_checker.CheckConfigCollisionFree(start_joints))\n",
    "\n",
    "plant.SetPositions(plant_context, scene.arm_index, start_joints)\n",
    "scene.robot_diagram.ForcedPublish(context)"
   ]
  },
  {
   "cell_type": "code",
   "execution_count": null,
   "metadata": {},
   "outputs": [],
   "source": [
    "goal_joints = np.deg2rad([0, -90, 90, 180, -110, 0])\n",
    "\n",
    "print(collision_checker.CheckConfigCollisionFree(goal_joints))\n",
    "\n",
    "plant.SetPositions(plant_context, scene.arm_index, goal_joints)\n",
    "scene.robot_diagram.ForcedPublish(context)"
   ]
  },
  {
   "cell_type": "code",
   "execution_count": null,
   "metadata": {},
   "outputs": [],
   "source": [
    "from airo_drake import animate_joint_configurations\n",
    "\n",
    "joint_path = np.linspace(start_joints, goal_joints, 20)\n",
    "animate_joint_configurations(scene.meshcat, scene.robot_diagram, scene.arm_index, joint_path, context=context)"
   ]
  },
  {
   "cell_type": "code",
   "execution_count": null,
   "metadata": {},
   "outputs": [],
   "source": [
    "def path_collisions_as_emojis(is_collision_free: list[bool]):\n",
    "    \"\"\"Displays an emoji-based visualization of a path's collisions.\n",
    "\n",
    "    Example output: \"✅✅💥✅✅✅💥✅✅✅✅\"\n",
    "\n",
    "    Args:\n",
    "        is_collision_free: A list of booleans, where True indicates no collision.\n",
    "\n",
    "    Returns:\n",
    "        A string of emojis representing the collision status of the path.\n",
    "    \"\"\"\n",
    "    emojis = [\"✅\" if is_free else \"💥\" for is_free in is_collision_free]\n",
    "    emoji_str = \"\".join(emojis)\n",
    "    return emoji_str\n",
    "\n",
    "print(collision_checker.CheckConfigsCollisionFree(joint_path))\n",
    "path_collisions_as_emojis(collision_checker.CheckConfigsCollisionFree(joint_path))"
   ]
  },
  {
   "cell_type": "markdown",
   "metadata": {},
   "source": [
    "## Checking TCP paths 📏\n",
    "\n",
    "For the cloth competition, I've had the problem that my `pregrasp_pose` pose is collision-free, but movely linearly to the `grasp_pose` make the robot elbow collide with the table.\n",
    "\n",
    "Below is a recreation of this scenario, and a demonstration of how checking the TCP path can help us avoid this problem."
   ]
  },
  {
   "cell_type": "code",
   "execution_count": null,
   "metadata": {},
   "outputs": [],
   "source": [
    "from airo_drake import visualize_frame\n",
    "\n",
    "\n",
    "# grasp_location = np.array([0.2, 0.5, 0.5]) # This moves the robot through a singularlity for some start configurations\n",
    "grasp_location = np.array([0.2, 0.4, 0.55])\n",
    "\n",
    "gripper_forward_direction = np.array([1, 0, 0])\n",
    "\n",
    "Z = gripper_forward_direction / np.linalg.norm(gripper_forward_direction)\n",
    "Y = np.array([0, 0, -1])  # 0, 0, 1 is also an option\n",
    "X = np.cross(Y, Z)\n",
    "\n",
    "grasp_orientation = np.column_stack([X, Y, Z])\n",
    "grasp_pose = np.identity(4)\n",
    "grasp_pose[0:3, 0:3] = grasp_orientation\n",
    "grasp_pose[0:3, 3] = grasp_location\n",
    "\n",
    "pregrasp_pose = grasp_pose.copy()\n",
    "pregrasp_pose[0:3, 3] -= 0.4 * gripper_forward_direction\n",
    "\n",
    "visualize_frame(scene.meshcat, pregrasp_pose, \"pregrasp_pose\")\n",
    "visualize_frame(scene.meshcat, grasp_pose, \"grasp_pose\")"
   ]
  },
  {
   "cell_type": "code",
   "execution_count": null,
   "metadata": {},
   "outputs": [],
   "source": [
    "from ur_analytic_ik import ur5e\n",
    "\n",
    "tcp_transform = np.identity(4)\n",
    "tcp_transform[2, 3] = 0.175 # 175 mm in z\n",
    "\n",
    "start_configurations = ur5e.inverse_kinematics_with_tcp(pregrasp_pose, tcp_transform)\n",
    "goal_configurations = ur5e.inverse_kinematics_with_tcp(grasp_pose, tcp_transform)\n",
    "\n",
    "start_configurations = np.array(start_configurations).squeeze()\n",
    "goal_configurations = np.array(goal_configurations).squeeze()\n",
    "\n",
    "len(start_configurations), len(goal_configurations)"
   ]
  },
  {
   "cell_type": "code",
   "execution_count": null,
   "metadata": {},
   "outputs": [],
   "source": [
    "print(path_collisions_as_emojis(collision_checker.CheckConfigsCollisionFree(start_configurations)))\n",
    "print(path_collisions_as_emojis(collision_checker.CheckConfigsCollisionFree(goal_configurations)))"
   ]
  },
  {
   "cell_type": "code",
   "execution_count": null,
   "metadata": {},
   "outputs": [],
   "source": [
    "animate_joint_configurations(scene.meshcat, scene.robot_diagram, scene.arm_index, start_configurations, duration=len(start_configurations))"
   ]
  },
  {
   "cell_type": "code",
   "execution_count": null,
   "metadata": {},
   "outputs": [],
   "source": [
    "animate_joint_configurations(scene.meshcat, scene.robot_diagram, scene.arm_index, goal_configurations, duration=len(goal_configurations))"
   ]
  },
  {
   "cell_type": "code",
   "execution_count": null,
   "metadata": {},
   "outputs": [],
   "source": [
    "from airo_typing import HomogeneousMatrixType\n",
    "\n",
    "\n",
    "def interpolate_linearly(a, b, t):\n",
    "    return a + t * (b - a)\n",
    "\n",
    "\n",
    "def interpolate_pose_path_positions(pose_a: HomogeneousMatrixType, pose_b: HomogeneousMatrixType, n: int):\n",
    "    pose_path = []\n",
    "\n",
    "    orientation = pose_a[0:3, 0:3]\n",
    "    for i in np.linspace(0, 1, n):\n",
    "        pose_interpolated = np.identity(4)\n",
    "        position = interpolate_linearly(pose_a[0:3, 3], pose_b[0:3, 3], i)\n",
    "        pose_interpolated[0:3, 0:3] = orientation\n",
    "        pose_interpolated[0:3, 3] = position\n",
    "        pose_path.append(pose_interpolated)\n",
    "    return pose_path\n",
    "\n",
    "\n",
    "tcp_path = interpolate_pose_path_positions(pregrasp_pose, grasp_pose, n=20)\n",
    "\n",
    "for i, tcp_pose in enumerate(tcp_path):\n",
    "    visualize_frame(scene.meshcat, tcp_pose, f\"tcp_path/pose_{i}\", length=0.05, opacity=0.1)\n",
    "\n",
    "\n",
    "path_joints_solutions = []\n",
    "\n",
    "for tcp_pose in tcp_path:\n",
    "    joint_solutions = ur5e.inverse_kinematics_with_tcp(tcp_pose, tcp_transform)\n",
    "    path_joints_solutions.append(np.array(joint_solutions).squeeze())\n",
    "\n",
    "    \n",
    "path_joints_solutions = np.array(path_joints_solutions) # note this is not always possible, because the number of solutions can change\n",
    "path_joints_solutions.shape"
   ]
  },
  {
   "cell_type": "code",
   "execution_count": null,
   "metadata": {},
   "outputs": [],
   "source": [
    "from airo_drake import create_paths_from_closest_solutions\n",
    "\n",
    "paths = create_paths_from_closest_solutions(path_joints_solutions)\n",
    "paths = np.array(paths)\n",
    "paths.shape"
   ]
  },
  {
   "cell_type": "code",
   "execution_count": null,
   "metadata": {},
   "outputs": [],
   "source": [
    "for path in paths:\n",
    "    print(path_collisions_as_emojis(collision_checker.CheckConfigsCollisionFree(path)))\n",
    "\n",
    "# for row in np.swapaxes(paths, 0, 1):\n",
    "#     print(path_collisions_as_emojis(collision_checker.CheckConfigsCollisionFree(row)))\n",
    "# np.allclose(np.swapaxes(paths, 0, 1), path_joints_solutions)"
   ]
  },
  {
   "cell_type": "code",
   "execution_count": null,
   "metadata": {},
   "outputs": [],
   "source": [
    "import matplotlib\n",
    "import matplotlib.pyplot as plt\n",
    "from airo_drake import calculate_joint_path_outlier_threshold\n",
    "\n",
    "path_distances = [np.linalg.norm(np.diff(path, axis=0), axis=1) for path in paths]\n",
    "thresholds = [calculate_joint_path_outlier_threshold(distances) for distances in path_distances]\n",
    "\n",
    "colors = matplotlib.colormaps[\"tab10\"].colors[:len(paths)]\n",
    "plt.figure(figsize=(20, 8))\n",
    "plt.title(\"Distances between the consecutive configurations in the paths\")\n",
    "for distances, threshold, color in zip(path_distances, thresholds, colors):\n",
    "    plt.plot(distances, marker=\"o\", color=color)\n",
    "    plt.axhline(y=threshold, color=color, linestyle='--')\n",
    "plt.legend([f\"path {i}\" for i in range(len(paths))] + [f\"path {i} upper bound\" for i in range(len(paths))])\n",
    "plt.show()"
   ]
  },
  {
   "cell_type": "code",
   "execution_count": null,
   "metadata": {},
   "outputs": [],
   "source": [
    "from airo_drake import joint_path_has_large_jumps\n",
    "\n",
    "for i, path in enumerate(paths):\n",
    "    has_jumps = joint_path_has_large_jumps(path)\n",
    "\n",
    "    distances = np.linalg.norm(np.diff(path, axis=0), axis=1)\n",
    "    threshold = calculate_joint_path_outlier_threshold(distances)\n",
    "    jumps = np.where(distances > threshold)[0]\n",
    "\n",
    "    emoji = \"🦘\" if has_jumps else \"✅\"\n",
    "    print(f\"path {i}: {emoji} {jumps}\")\n",
    "\n"
   ]
  },
  {
   "cell_type": "code",
   "execution_count": null,
   "metadata": {},
   "outputs": [],
   "source": [
    "paths_without_jumps = [path for path in paths if not joint_path_has_large_jumps(path)]\n",
    "\n",
    "for path in paths_without_jumps:\n",
    "    print(path_collisions_as_emojis(collision_checker.CheckConfigsCollisionFree(path)))"
   ]
  },
  {
   "cell_type": "code",
   "execution_count": null,
   "metadata": {},
   "outputs": [],
   "source": [
    "paths_with_collisions = [path for path in paths_without_jumps if not np.all(collision_checker.CheckConfigsCollisionFree(path))]\n",
    "\n",
    "for path in paths_with_collisions:\n",
    "    print(path_collisions_as_emojis(collision_checker.CheckConfigsCollisionFree(path)))\n",
    "\n",
    "animate_joint_configurations(scene.meshcat, scene.robot_diagram, scene.arm_index, paths_with_collisions[0])"
   ]
  },
  {
   "cell_type": "code",
   "execution_count": null,
   "metadata": {},
   "outputs": [],
   "source": [
    "paths_without_collisions = [path for path in paths_without_jumps if np.all(collision_checker.CheckConfigsCollisionFree(path))]\n",
    "\n",
    "for path in paths_without_collisions:\n",
    "    print(path_collisions_as_emojis(collision_checker.CheckConfigsCollisionFree(path)))\n",
    "\n",
    "animate_joint_configurations(scene.meshcat, scene.robot_diagram, scene.arm_index, paths_without_collisions[0])"
   ]
  },
  {
   "cell_type": "code",
   "execution_count": null,
   "metadata": {},
   "outputs": [],
   "source": []
  }
 ],
 "metadata": {
  "kernelspec": {
   "display_name": "cloth-competition",
   "language": "python",
   "name": "python3"
  },
  "language_info": {
   "codemirror_mode": {
    "name": "ipython",
    "version": 3
   },
   "file_extension": ".py",
   "mimetype": "text/x-python",
   "name": "python",
   "nbconvert_exporter": "python",
   "pygments_lexer": "ipython3",
   "version": "3.10.13"
  }
 },
 "nbformat": 4,
 "nbformat_minor": 2
}
