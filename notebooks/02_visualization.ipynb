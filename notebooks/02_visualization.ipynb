{
 "cells": [
  {
   "cell_type": "markdown",
   "metadata": {},
   "source": [
    "# Visualization tutorial 🎨\n",
    "\n",
    "This notebook shows the visualization tools of `airo-drake`."
   ]
  },
  {
   "cell_type": "markdown",
   "metadata": {},
   "source": [
    "## 1. Building the Scene 🏗️"
   ]
  },
  {
   "cell_type": "code",
   "execution_count": null,
   "metadata": {},
   "outputs": [],
   "source": [
    "import numpy as np\n",
    "from pydrake.planning import RobotDiagramBuilder\n",
    "from airo_drake import add_manipulator, add_floor, add_meshcat, finish_build\n",
    "from airo_drake import SingleArmScene\n",
    "from pydrake.math import RigidTransform\n",
    "\n",
    "\n",
    "robot_diagram_builder = RobotDiagramBuilder() \n",
    "\n",
    "meshcat = add_meshcat(robot_diagram_builder)\n",
    "arm_index, gripper_index = add_manipulator(robot_diagram_builder, \"ur5e\", \"robotiq_2f_85\")\n",
    "add_floor(robot_diagram_builder)\n",
    "\n",
    "robot_diagram, context = finish_build(robot_diagram_builder, meshcat)\n",
    "del robot_diagram_builder # no longer needed\n",
    "\n",
    "scene = SingleArmScene(robot_diagram, arm_index, gripper_index, meshcat)\n",
    "scene"
   ]
  },
  {
   "cell_type": "code",
   "execution_count": null,
   "metadata": {},
   "outputs": [],
   "source": [
    "joints = np.deg2rad([0, -45, -90, -90, 90, 0])\n",
    "\n",
    "plant = scene.robot_diagram.plant()\n",
    "plant_context = plant.GetMyContextFromRoot(context)\n",
    "\n",
    "plant.SetPositions(plant_context, scene.arm_index, joints)\n",
    "scene.robot_diagram.ForcedPublish(context) # updates the meshcat visualization"
   ]
  },
  {
   "cell_type": "code",
   "execution_count": null,
   "metadata": {},
   "outputs": [],
   "source": [
    "plant.GetPositions(plant_context, scene.gripper_index)"
   ]
  },
  {
   "cell_type": "markdown",
   "metadata": {},
   "source": [
    "🧙‍♂️ Closing the gripper is a bit more tricky because the mimic joints are not supported in Drake: "
   ]
  },
  {
   "cell_type": "code",
   "execution_count": null,
   "metadata": {},
   "outputs": [],
   "source": [
    "v = 0.81 # magic joint value for to close the gripper\n",
    "plant.SetPositions(plant_context, scene.gripper_index, np.array([v, -v, v] * 2))\n",
    "scene.robot_diagram.ForcedPublish(context) # updates the meshcat visualization"
   ]
  },
  {
   "cell_type": "markdown",
   "metadata": {},
   "source": [
    "## 2. Visualizing frames 🖼️\n",
    "\n",
    "⏩ Let's start by calculating the forward kinematics of the robot and visualizing the TCP frame:"
   ]
  },
  {
   "cell_type": "code",
   "execution_count": null,
   "metadata": {},
   "outputs": [],
   "source": [
    "from ur_analytic_ik import ur5e\n",
    "\n",
    "tcp_transform = np.identity(4)\n",
    "tcp_transform[2, 3] = 0.175 # 175 mm in z\n",
    "\n",
    "tcp_pose = ur5e.forward_kinematics(*joints) @ tcp_transform\n",
    "\n",
    "with np.printoptions(precision=3, suppress=True):\n",
    "    print(tcp_pose)"
   ]
  },
  {
   "cell_type": "code",
   "execution_count": null,
   "metadata": {},
   "outputs": [],
   "source": [
    "from airo_drake import visualize_frame\n",
    "\n",
    "visualize_frame(scene.meshcat, tcp_pose, \"tcp_frame\")"
   ]
  },
  {
   "cell_type": "code",
   "execution_count": null,
   "metadata": {},
   "outputs": [],
   "source": [
    "visualize_frame(scene.meshcat, RigidTransform(), \"world_frame\", length=1.0, radius=0.01, opacity=0.2)"
   ]
  },
  {
   "cell_type": "code",
   "execution_count": null,
   "metadata": {},
   "outputs": [],
   "source": [
    "scene.meshcat.Delete(\"world_frame\")"
   ]
  },
  {
   "cell_type": "markdown",
   "metadata": {},
   "source": [
    "## 3. Visualizing IK solutions 🦾"
   ]
  },
  {
   "cell_type": "code",
   "execution_count": null,
   "metadata": {},
   "outputs": [],
   "source": [
    "joint_solutions = ur5e.inverse_kinematics_with_tcp(tcp_pose, tcp_transform)\n",
    "\n",
    "with np.printoptions(precision=3, suppress=True):\n",
    "    for joint_solution in joint_solutions:\n",
    "        print(joint_solution)\n",
    "\n"
   ]
  },
  {
   "cell_type": "code",
   "execution_count": null,
   "metadata": {},
   "outputs": [],
   "source": [
    "from airo_drake import animate_joint_configurations\n",
    "\n",
    "animate_joint_configurations(scene.meshcat, scene.robot_diagram, scene.arm_index, joint_solutions, time_per_configuration=1.0, context=context)"
   ]
  },
  {
   "cell_type": "markdown",
   "metadata": {},
   "source": [
    "## 4. Visualizing paths 🛤️\n",
    "\n",
    "The simplest way to get a joint path, is to linearly interpolate between a start and end configuration."
   ]
  },
  {
   "cell_type": "code",
   "execution_count": null,
   "metadata": {},
   "outputs": [],
   "source": [
    "joint_solution_0 = joint_solutions[0].squeeze()\n",
    "joint_solution_1 = joint_solutions[1].squeeze()\n",
    "\n",
    "joint_path = np.linspace(joint_solution_0, joint_solution_1, 1000)\n",
    "joint_path.shape"
   ]
  },
  {
   "cell_type": "code",
   "execution_count": null,
   "metadata": {},
   "outputs": [],
   "source": [
    "import matplotlib.pyplot as plt\n",
    "\n",
    "plt.figure(figsize=(10, 6))\n",
    "plt.title(\"Joint angles - linearly interpolated between two IK solutions\")\n",
    "for row in joint_path.T:\n",
    "    plt.plot(row)\n",
    "\n",
    "plt.ylim(-np.pi, np.pi)\n",
    "plt.legend([f\"joint {i}\" for i in range(6)])\n",
    "plt.show()"
   ]
  },
  {
   "cell_type": "code",
   "execution_count": null,
   "metadata": {},
   "outputs": [],
   "source": [
    "from airo_drake import animate_joint_configurations\n",
    "\n",
    "animate_joint_configurations(scene.meshcat, scene.robot_diagram, scene.arm_index, joint_path, context=context)"
   ]
  },
  {
   "cell_type": "markdown",
   "metadata": {},
   "source": [
    "## 5. Visualizing trajectories 🌠"
   ]
  },
  {
   "cell_type": "markdown",
   "metadata": {},
   "source": []
  }
 ],
 "metadata": {
  "kernelspec": {
   "display_name": "cloth-competition",
   "language": "python",
   "name": "python3"
  },
  "language_info": {
   "codemirror_mode": {
    "name": "ipython",
    "version": 3
   },
   "file_extension": ".py",
   "mimetype": "text/x-python",
   "name": "python",
   "nbconvert_exporter": "python",
   "pygments_lexer": "ipython3",
   "version": "3.10.13"
  }
 },
 "nbformat": 4,
 "nbformat_minor": 2
}
